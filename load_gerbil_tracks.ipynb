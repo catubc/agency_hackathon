{
 "cells": [
  {
   "cell_type": "code",
   "execution_count": 13,
   "metadata": {},
   "outputs": [
    {
     "name": "stdout",
     "output_type": "stream",
     "text": [
      "The autoreload extension is already loaded. To reload it, use:\n",
      "  %reload_ext autoreload\n"
     ]
    },
    {
     "data": {
      "application/javascript": "IPython.notebook.set_autosave_interval(180000)"
     },
     "metadata": {},
     "output_type": "display_data"
    },
    {
     "name": "stdout",
     "output_type": "stream",
     "text": [
      "Autosaving every 180 seconds\n"
     ]
    }
   ],
   "source": [
    "%load_ext autoreload\n",
    "%autoreload 2\n",
    "\n",
    "import matplotlib\n",
    "%matplotlib tk\n",
    "%autosave 180\n",
    "\n",
    "#\n",
    "import matplotlib.pyplot as plt\n",
    "\n",
    "import os\n",
    "import numpy as np\n",
    "import pandas as pd\n",
    "\n",
    "# must install sleap from github: https://github.com/talmolab/sleap\n",
    "import sleap\n",
    "\n",
    "# there are other dependecies of standard python libraries; please install as required\n",
    "\n",
    "#\n",
    "from cohort import cohort\n",
    "\n"
   ]
  },
  {
   "cell_type": "markdown",
   "metadata": {},
   "source": [
    "### Dataset description\n",
    "\n",
    "There are 3 kinds of data in the dataset:\n",
    "\n",
    "1.  .slp files are the output of the sleap package. It contains the tracking data for each frame of the video. It also contains the labels for each frame. The labels are the body parts that are tracked. The labels are the following:\n",
    "    [n_timepoints, n_animals, n_bodyparts, n_coords]\n",
    "\n",
    "2. .npy files contain the loaded .slp files converted to numpy arrays. The data is the same as in the .slp files, but in numpy format. \n",
    "\n",
    "3. _spine_nohuddle.npy files contain the centroid of each animal in the datasets and it is corrected by other algorithms to decrease animal id switch errors and also to remove tracking of the animals when the are huddling (i.e. in the nest). The reason for removing nest tracking is that it is very poor due to much occlusion. \n",
    "\n",
    "The datasets are avialble to download on switch drive here:\n",
    "\n",
    "https://drive.switch.ch/index.php/s/u5GWMIlSA5UIXV3\n",
    "\n",
    "There are ~15 days of recordings from developmental day P15 to Developmantal day P30\n"
   ]
  },
  {
   "cell_type": "code",
   "execution_count": 9,
   "metadata": {},
   "outputs": [
    {
     "name": "stdout",
     "output_type": "stream",
     "text": [
      "DF:     Unnamed: 0  Cohort NN Type                                   Filename Dev Day  # of Gerbils Time of Light Switch  Shaved?  Predicted?                                   Slp filename Start time  Unnamed: 11  Unnamed: 12  Unnamed: 13  Unnamed: 14  Unnamed: 15  Unnamed: 16  Unnamed: 17  Unnamed: 18  Unnamed: 19  Unnamed: 20  Unnamed: 21  Unnamed: 22  Unnamed: 23  Unnamed: 24\n",
      "0         0.0     2.0     Day  2020_07_20_09_53_59_813912_compressed.mp4     P15           6.0                  NaN      1.0         1.0  2020_07_20_09_53_59_813912_compressed_Day.slp   09:53:59          NaN          NaN          NaN          NaN          NaN          NaN          NaN          NaN          NaN          NaN          NaN          NaN          NaN          NaN\n",
      "1         1.0     2.0     Day  2020_07_20_10_16_08_629297_compressed.mp4     P15           6.0                  NaN      1.0         1.0  2020_07_20_10_16_08_629297_compressed_Day.slp   10:16:08          NaN          NaN          NaN          NaN          NaN          NaN          NaN          NaN          NaN          NaN          NaN          NaN          NaN          NaN\n",
      "2         2.0     2.0     Day  2020_07_20_10_38_20_043555_compressed.mp4     P15           6.0                  NaN      1.0         1.0  2020_07_20_10_38_20_043555_compressed_Day.slp   10:38:20          NaN          NaN          NaN          NaN          NaN          NaN          NaN          NaN          NaN          NaN          NaN          NaN          NaN          NaN\n",
      "3         3.0     2.0     Day  2020_07_20_11_00_31_566455_compressed.mp4     P15           6.0                  NaN      1.0         1.0  2020_07_20_11_00_31_566455_compressed_Day.slp   11:00:31          NaN          NaN          NaN          NaN          NaN          NaN          NaN          NaN          NaN          NaN          NaN          NaN          NaN          NaN\n",
      "4         4.0     2.0     Day  2020_07_20_11_22_36_823934_compressed.mp4     P15           6.0                  NaN      1.0         1.0  2020_07_20_11_22_36_823934_compressed_Day.slp   11:22:36          NaN          NaN          NaN          NaN          NaN          NaN          NaN          NaN          NaN          NaN          NaN          NaN          NaN          NaN\n",
      "Loading only recordings with 6 animals...\n",
      " ... total # :  991  /  991\n"
     ]
    }
   ],
   "source": [
    "######################################################\n",
    "############# LOAD ANIMAL DATABASE ###################\n",
    "######################################################\n",
    "\n",
    "# the spreadsheet with the animal database should be provided with this package \n",
    "fname_spreadsheet = 'database.xlsx'\n",
    "\n",
    "#\n",
    "coh = cohort.CohortProcessor(fname_spreadsheet)\n",
    "\n",
    "#\n",
    "coh.load_database()"
   ]
  },
  {
   "cell_type": "code",
   "execution_count": 36,
   "metadata": {},
   "outputs": [
    {
     "name": "stdout",
     "output_type": "stream",
     "text": [
      "# of files loaded:  37\n",
      "example track shape [n_timesteps, n_animals, n_features, n_coords]:  (28802, 6, 6, 2)\n"
     ]
    }
   ],
   "source": [
    "######################################################\n",
    "############### LOAD FEATURES FROM .NPY  #############\n",
    "######################################################\n",
    "# note linux uses '/' while windows uses '\\'\n",
    "files_dir = '/home/cat/Downloads/Downloads/cohort2_P15_tracking'\n",
    "\n",
    "# \n",
    "coh.verbose = False   # this turns off some of the print statements\n",
    "coh.agency_hackathon_load_npy(files_dir)\n",
    "\n",
    "# print # of files loaded\n",
    "print (\"# of files loaded: \", len(coh.feature_tracks_npy))\n",
    "\n",
    "# print example track shape\n",
    "print (\"example track shape [n_timesteps, n_animals, n_features, n_coords]: \", coh.feature_tracks_npy[0].shape)\n",
    "\n",
    "# show an example track for each animal\n",
    "# note that many tracks tend to jump periodically due to sleap and/or DLC id switche errors\n",
    "plt.figure(figsize=(15,10))\n",
    "feature_id = 3\n",
    "for k in range(6):\n",
    "    plt.subplot(2,3,k+1)\n",
    "    plt.title(\"animal id: \"+str(k))\n",
    "    temp = coh.feature_tracks_npy[0]\n",
    "    plt.plot(temp[:,k,feature_id,0],\n",
    "             temp[:,k,feature_id,1])\n",
    "# the box limits\n",
    "plt.xlim(0,900)\n",
    "plt.ylim(0,700)\n",
    "\n",
    "#\n",
    "plt.show()"
   ]
  },
  {
   "cell_type": "code",
   "execution_count": 37,
   "metadata": {},
   "outputs": [
    {
     "name": "stdout",
     "output_type": "stream",
     "text": [
      "# of files loaded:  37\n",
      "example track shape [n_timesteps, n_animals, n_coords]:  (28802, 6, 2)\n"
     ]
    }
   ],
   "source": [
    "######################################################\n",
    "############### LOAD CLEANED CENTROIDS ###############\n",
    "######################################################\n",
    "# note linux uses '/' while windows uses '\\'\n",
    "files_dir = '/home/cat/Downloads/Downloads/cohort2_P15_tracking'\n",
    "\n",
    "# \n",
    "coh.verbose = False   # this turns off some of the print statements\n",
    "coh.agency_hackathon_load_centroids_npy(files_dir)\n",
    "\n",
    "# print # of files loaded\n",
    "print (\"# of files loaded: \", len(coh.feature_tracks_npy))\n",
    "\n",
    "# print example track shape\n",
    "print (\"example track shape [n_timesteps, n_animals, n_coords]: \", coh.feature_tracks_npy[0].shape)\n",
    "\n",
    "# show an example track for each animal\n",
    "# note that many tracks tend to jump periodically due to sleap and/or DLC id switche errors\n",
    "plt.figure(figsize=(15,10))\n",
    "for k in range(6):\n",
    "    plt.subplot(2,3,k+1)\n",
    "    plt.title(\"animal id: \"+str(k))\n",
    "    temp = coh.feature_tracks_npy[0]\n",
    "    plt.plot(temp[:,k,0],\n",
    "             temp[:,k,1])\n",
    "# the box limits\n",
    "plt.xlim(0,900)\n",
    "plt.ylim(0,700)\n",
    "\n",
    "#\n",
    "plt.show()"
   ]
  },
  {
   "cell_type": "code",
   "execution_count": null,
   "metadata": {},
   "outputs": [],
   "source": []
  }
 ],
 "metadata": {
  "kernelspec": {
   "display_name": "gerbil",
   "language": "python",
   "name": "python3"
  },
  "language_info": {
   "codemirror_mode": {
    "name": "ipython",
    "version": 3
   },
   "file_extension": ".py",
   "mimetype": "text/x-python",
   "name": "python",
   "nbconvert_exporter": "python",
   "pygments_lexer": "ipython3",
   "version": "3.7.0"
  },
  "orig_nbformat": 4
 },
 "nbformat": 4,
 "nbformat_minor": 2
}
